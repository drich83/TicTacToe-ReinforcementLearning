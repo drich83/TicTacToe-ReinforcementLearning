{
 "cells": [
  {
   "cell_type": "markdown",
   "id": "diverse-letters",
   "metadata": {},
   "source": [
    "Notebook written by David Shimshoni\n",
    "\n",
    "Tic Tac Toe Environment (script renamed hajeTTTENV) created by Kim Jeong Ju, Dustin Michels, and Johann Miller, used here under the terms of the MIT License. Original work found here: https://github.com/haje01/gym-tictactoe"
   ]
  },
  {
   "cell_type": "code",
   "execution_count": 2,
   "id": "wired-coating",
   "metadata": {},
   "outputs": [
    {
     "name": "stdout",
     "output_type": "stream",
     "text": [
      "['.ipynb_checkpoints', 'lib', 'TicTacToeTrialRun.ipynb']\n"
     ]
    }
   ],
   "source": [
    "import os\n",
    "import sys\n",
    "from glob import glob\n",
    "import matplotlib.pyplot as plt\n",
    "import seaborn as sns\n",
    "import numpy as np\n",
    "import random\n",
    "import gym\n",
    "\n",
    "LOCAL_PATH = os.getcwd()\n",
    "print(os.listdir(LOCAL_PATH))\n",
    "sys.path.append(LOCAL_PATH)\n",
    "sys.path.append(LOCAL_PATH + '/lib')\n",
    "\n",
    "from hajeTTTEnv import *"
   ]
  },
  {
   "cell_type": "code",
   "execution_count": 3,
   "id": "pediatric-receipt",
   "metadata": {},
   "outputs": [
    {
     "name": "stdout",
     "output_type": "stream",
     "text": [
      "   | | \n",
      "  -----\n",
      "   | | \n",
      "  -----\n",
      "   | | \n",
      "\n"
     ]
    }
   ],
   "source": [
    "env = TicTacToeEnv()\n",
    "env.render()"
   ]
  },
  {
   "cell_type": "code",
   "execution_count": 6,
   "id": "correct-storage",
   "metadata": {},
   "outputs": [
    {
     "data": {
      "text/plain": [
       "['__class__',\n",
       " '__delattr__',\n",
       " '__dict__',\n",
       " '__dir__',\n",
       " '__doc__',\n",
       " '__enter__',\n",
       " '__eq__',\n",
       " '__exit__',\n",
       " '__format__',\n",
       " '__ge__',\n",
       " '__getattribute__',\n",
       " '__gt__',\n",
       " '__hash__',\n",
       " '__init__',\n",
       " '__init_subclass__',\n",
       " '__le__',\n",
       " '__lt__',\n",
       " '__module__',\n",
       " '__ne__',\n",
       " '__new__',\n",
       " '__reduce__',\n",
       " '__reduce_ex__',\n",
       " '__repr__',\n",
       " '__setattr__',\n",
       " '__sizeof__',\n",
       " '__str__',\n",
       " '__subclasshook__',\n",
       " '__weakref__',\n",
       " '_get_obs',\n",
       " '_show_board',\n",
       " '_show_episode',\n",
       " '_show_result',\n",
       " '_show_turn',\n",
       " 'action_space',\n",
       " 'alpha',\n",
       " 'available_actions',\n",
       " 'board',\n",
       " 'close',\n",
       " 'done',\n",
       " 'mark',\n",
       " 'metadata',\n",
       " 'observation_space',\n",
       " 'render',\n",
       " 'reset',\n",
       " 'reward_range',\n",
       " 'seed',\n",
       " 'set_start_mark',\n",
       " 'show_episode',\n",
       " 'show_number',\n",
       " 'show_result',\n",
       " 'show_turn',\n",
       " 'spec',\n",
       " 'start_mark',\n",
       " 'step',\n",
       " 'unwrapped']"
      ]
     },
     "execution_count": 6,
     "metadata": {},
     "output_type": "execute_result"
    }
   ],
   "source": [
    "dir(env)"
   ]
  },
  {
   "cell_type": "code",
   "execution_count": 8,
   "id": "interior-brook",
   "metadata": {},
   "outputs": [
    {
     "data": {
      "text/plain": [
       "Discrete(9)"
      ]
     },
     "execution_count": 8,
     "metadata": {},
     "output_type": "execute_result"
    }
   ],
   "source": [
    "env.action_space"
   ]
  },
  {
   "cell_type": "code",
   "execution_count": 9,
   "id": "substantial-spread",
   "metadata": {},
   "outputs": [
    {
     "data": {
      "text/plain": [
       "Discrete(9)"
      ]
     },
     "execution_count": 9,
     "metadata": {},
     "output_type": "execute_result"
    }
   ],
   "source": [
    "env.observation_space"
   ]
  },
  {
   "cell_type": "code",
   "execution_count": 10,
   "id": "reduced-consolidation",
   "metadata": {},
   "outputs": [
    {
     "data": {
      "text/plain": [
       "((0, 0, 0, 0, 0, 0, 0, 0, 0), 'O')"
      ]
     },
     "execution_count": 10,
     "metadata": {},
     "output_type": "execute_result"
    }
   ],
   "source": [
    "state = env.reset()\n",
    "state"
   ]
  },
  {
   "cell_type": "code",
   "execution_count": 13,
   "id": "polish-insulation",
   "metadata": {},
   "outputs": [
    {
     "data": {
      "text/plain": [
       "['__class__',\n",
       " '__contains__',\n",
       " '__delattr__',\n",
       " '__dict__',\n",
       " '__dir__',\n",
       " '__doc__',\n",
       " '__eq__',\n",
       " '__format__',\n",
       " '__ge__',\n",
       " '__getattribute__',\n",
       " '__gt__',\n",
       " '__hash__',\n",
       " '__init__',\n",
       " '__init_subclass__',\n",
       " '__le__',\n",
       " '__lt__',\n",
       " '__module__',\n",
       " '__ne__',\n",
       " '__new__',\n",
       " '__reduce__',\n",
       " '__reduce_ex__',\n",
       " '__repr__',\n",
       " '__setattr__',\n",
       " '__sizeof__',\n",
       " '__str__',\n",
       " '__subclasshook__',\n",
       " '__weakref__',\n",
       " '_np_random',\n",
       " 'contains',\n",
       " 'dtype',\n",
       " 'from_jsonable',\n",
       " 'n',\n",
       " 'np_random',\n",
       " 'sample',\n",
       " 'seed',\n",
       " 'shape',\n",
       " 'to_jsonable']"
      ]
     },
     "execution_count": 13,
     "metadata": {},
     "output_type": "execute_result"
    }
   ],
   "source": [
    "dir(env.action_space)"
   ]
  },
  {
   "cell_type": "code",
   "execution_count": 14,
   "id": "functioning-aquarium",
   "metadata": {},
   "outputs": [
    {
     "data": {
      "text/plain": [
       "array([0., 0., 0., 0., 0.])"
      ]
     },
     "execution_count": 14,
     "metadata": {},
     "output_type": "execute_result"
    }
   ],
   "source": [
    "qlearn_Q = np.zeros((env.action_space.n, 3, 3, 3, 3, 3, 3, 3, 3, 3))\n",
    "qlearn_Q[[0, 1, 2, 3, 4], 0, 0, 0, 0, 0, 0, 0, 0, 0]"
   ]
  },
  {
   "cell_type": "code",
   "execution_count": 96,
   "id": "charitable-grain",
   "metadata": {},
   "outputs": [],
   "source": [
    "## Note: By default environment assumes 'O' starts first. Has positive reward\n",
    "## The second mark, X, goes second, and has a negative reward\n",
    "def q_learning_train_function(n_episodes=100000, visualize_env=False, print_output=False,\n",
    "                        alpha=0.3, gamma=0.9, epsilon=0.1):\n",
    "    \n",
    "    ################################### \n",
    "    ### Q-TABLE INITIALIZATION HERE ### \n",
    "\n",
    "    ## Q-table is 10 dimensions, the first being the action space(9 rows).\n",
    "    ## The remaining 9 dimensions are one of the three possible values of each square:\n",
    "    ## 0 is blank, 1 is 'O', 2 is 'X'\n",
    "\n",
    "    qlearn_Q = np.zeros((env.action_space.n, \n",
    "                         3, 3, 3, \n",
    "                         3, 3, 3, \n",
    "                         3, 3, 3))\n",
    "\n",
    "    ################################### \n",
    "\n",
    "    R_q_agent = [] # for collecting returns\n",
    "    T_q_agent = [] # for collecting number of timesteps\n",
    "\n",
    "    start = random.uniform(0, 1)\n",
    "    if start > 0.5:\n",
    "        start_first= True\n",
    "    else:\n",
    "        start_first = False\n",
    "\n",
    "    for i_episode in range(n_episodes):\n",
    "\n",
    "        agent_turn = start_first\n",
    "\n",
    "        if print_output:\n",
    "            print('Episode: ' + str(i_episode+1))\n",
    "\n",
    "        # Reset environment at the beginning of each episode. \n",
    "        observation, mark = env.reset()\n",
    "\n",
    "        done = False\n",
    "\n",
    "        t = 0 # timestep counter\n",
    "        ep_return = 0 # return_counter\n",
    "\n",
    "        available_actions = env.available_actions()\n",
    "\n",
    "        # Loop through time steps. \n",
    "        while not done:\n",
    "\n",
    "            if print_output:\n",
    "                print('Timestep: ' + str(t+1))\n",
    "\n",
    "            # Visualize state of the environment. \n",
    "            if visualize_env:\n",
    "                env.render()\n",
    "                print('\\n ')\n",
    "\n",
    "            if agent_turn:\n",
    "                # Pick an action. (Agent's Turn)\n",
    "                ############################ \n",
    "                ### E-GREEDY POLICY HERE ###\n",
    "\n",
    "                explore = random.uniform(0, 1)\n",
    "\n",
    "                if explore > epsilon:\n",
    "                    if start_first:\n",
    "                        action_index = np.argmax(qlearn_Q[available_actions, \n",
    "                                                         observation[0], observation[1], observation[2],\n",
    "                                                         observation[3], observation[4], observation[5],\n",
    "                                                         observation[6], observation[7], observation[8]])\n",
    "                    else:\n",
    "                        action_index = np.argmin(qlearn_Q[available_actions, \n",
    "                                                         observation[0], observation[1], observation[2],\n",
    "                                                         observation[3], observation[4], observation[5],\n",
    "                                                         observation[6], observation[7], observation[8]])\n",
    "                    action = available_actions[action_index]\n",
    "                else:\n",
    "                    action = np.random.choice(available_actions)\n",
    "\n",
    "                ############################ \n",
    "            else:\n",
    "                action = np.random.choice(available_actions)\n",
    "\n",
    "            if print_output:\n",
    "                print('Action: ', action)\n",
    "\n",
    "            # Step through and observe new state and reward. \n",
    "            ##########################\n",
    "            ### STEP FUNCTION HERE ###\n",
    "\n",
    "            (next_observation, next_mark), reward, done, info = env.step(action)\n",
    "            available_actions = env.available_actions()\n",
    "\n",
    "            ##########################\n",
    "\n",
    "            ###########################\n",
    "            ### Q-VALUE UPDATE HERE ###\n",
    "\n",
    "            try:\n",
    "                if start_first:\n",
    "                    next_obs_Q = qlearn_Q[available_actions[np.argmax(qlearn_Q[available_actions, \n",
    "                                                         next_observation[0], next_observation[1], next_observation[2],\n",
    "                                                         next_observation[3], next_observation[4], next_observation[5],\n",
    "                                                         next_observation[6], next_observation[7], next_observation[8]])], \n",
    "                                      next_observation[0], next_observation[1], next_observation[2],\n",
    "                                      next_observation[3], next_observation[4], next_observation[5],\n",
    "                                      next_observation[6], next_observation[7], next_observation[8]]\n",
    "                else:\n",
    "                    next_obs_Q = qlearn_Q[available_actions[np.argmin(qlearn_Q[available_actions, \n",
    "                                                         next_observation[0], next_observation[1], next_observation[2],\n",
    "                                                         next_observation[3], next_observation[4], next_observation[5],\n",
    "                                                         next_observation[6], next_observation[7], next_observation[8]])], \n",
    "                                      next_observation[0], next_observation[1], next_observation[2],\n",
    "                                      next_observation[3], next_observation[4], next_observation[5],\n",
    "                                      next_observation[6], next_observation[7], next_observation[8]]\n",
    "\n",
    "            except ValueError:\n",
    "                next_obs_Q = 0\n",
    "            old_Q = qlearn_Q[action, \n",
    "                            observation[0], observation[1], observation[2],\n",
    "                            observation[3], observation[4], observation[5],\n",
    "                            observation[6], observation[7], observation[8]]\n",
    "            updated_Q = old_Q + alpha * (reward + gamma * next_obs_Q - old_Q)\n",
    "\n",
    "            qlearn_Q[action, \n",
    "                    observation[0], observation[1], observation[2],\n",
    "                    observation[3], observation[4], observation[5],\n",
    "                    observation[6], observation[7], observation[8]] = updated_Q\n",
    "            observation = next_observation\n",
    "            mark = next_mark\n",
    "\n",
    "            ###########################\n",
    "\n",
    "            # Update counters.\n",
    "            if start_first:\n",
    "                ep_return += reward\n",
    "            else:\n",
    "                ep_return -= reward\n",
    "\n",
    "            t += 1\n",
    "            agent_turn = not agent_turn\n",
    "\n",
    "            if print_output:\n",
    "                print('Reward: ' + str(reward))\n",
    "\n",
    "            # Check if we reached the terminal state. \n",
    "            if done:\n",
    "                R_q_agent.append(ep_return)\n",
    "                T_q_agent.append(t)\n",
    "                start_first = not start_first\n",
    "                break\n",
    "\n",
    "        if print_output:\n",
    "            print(\"Timesteps taken: {}\".format(t))\n",
    "            print(\"Episode return: {}\".format(ep_return))\n",
    "\n",
    "    env.close()\n",
    "    return qlearn_Q, R_q_agent, T_q_agent"
   ]
  },
  {
   "cell_type": "code",
   "execution_count": 100,
   "id": "animated-diesel",
   "metadata": {},
   "outputs": [],
   "source": [
    "epsilons = [0.1, 0.2]\n",
    "results = {}\n",
    "for epsilon in epsilons:\n",
    "    results[epsilon] = {}\n",
    "    train_results = q_learning_train_function(epsilon=epsilon)\n",
    "    results[epsilon][\"q_table\"] = train_results[0]\n",
    "    results[epsilon][\"reward\"] = np.array(train_results[1])\n",
    "    results[epsilon][\"timesteps\"] = np.array(train_results[2])"
   ]
  },
  {
   "cell_type": "code",
   "execution_count": 102,
   "id": "matched-sponsorship",
   "metadata": {},
   "outputs": [
    {
     "name": "stdout",
     "output_type": "stream",
     "text": [
      "Epsilon =  0.1\n",
      "Games won in first 500 games:  291\n",
      "Games won in last 500 games:  411\n",
      "Epsilon =  0.2\n",
      "Games won in first 500 games:  274\n",
      "Games won in last 500 games:  411\n"
     ]
    }
   ],
   "source": [
    "for epsilon in results:\n",
    "    print(\"Epsilon = \", epsilon)\n",
    "    print(\"Games won in first 500 games: \", np.sum(results[epsilon][\"reward\"][:500] == 1))\n",
    "    print(\"Games won in last 500 games: \", np.sum(results[epsilon][\"reward\"][-500:] == 1))"
   ]
  },
  {
   "cell_type": "code",
   "execution_count": 106,
   "id": "deluxe-vertex",
   "metadata": {},
   "outputs": [
    {
     "data": {
      "image/png": "[encoded data removed]",
      "text/plain": [
       "<Figure size 432x288 with 1 Axes>"
      ]
     },
     "metadata": {
      "needs_background": "light"
     },
     "output_type": "display_data"
    }
   ],
   "source": [
    "plt.hist(results[0.1][\"reward\"][:500], bins=5)\n",
    "plt.title(\"First 500 Games, Epsilon = 0.1\")\n",
    "plt.ylabel(\"Games\")\n",
    "plt.show()"
   ]
  },
  {
   "cell_type": "code",
   "execution_count": 107,
   "id": "broadband-programming",
   "metadata": {},
   "outputs": [
    {
     "data": {
      "image/png": "[encoded data removed]",
      "text/plain": [
       "<Figure size 432x288 with 1 Axes>"
      ]
     },
     "metadata": {
      "needs_background": "light"
     },
     "output_type": "display_data"
    }
   ],
   "source": [
    "plt.hist(results[0.1][\"reward\"][-500:], bins=5)\n",
    "plt.title(\"Last 500 Games, Epsilon = 0.1\")\n",
    "plt.ylabel(\"Games\")\n",
    "plt.show()"
   ]
  },
  {
   "cell_type": "code",
   "execution_count": 108,
   "id": "proud-gregory",
   "metadata": {},
   "outputs": [
    {
     "data": {
      "image/png": "[encoded data removed]",
      "text/plain": [
       "<Figure size 432x288 with 1 Axes>"
      ]
     },
     "metadata": {
      "needs_background": "light"
     },
     "output_type": "display_data"
    }
   ],
   "source": [
    "plt.hist(results[0.2][\"reward\"][:500], bins=5)\n",
    "plt.title(\"First 500 Games, Epsilon = 0.2\")\n",
    "plt.ylabel(\"Games\")\n",
    "plt.show()"
   ]
  },
  {
   "cell_type": "code",
   "execution_count": 109,
   "id": "macro-firmware",
   "metadata": {},
   "outputs": [
    {
     "data": {
      "image/png": "[encoded data removed]",
      "text/plain": [
       "<Figure size 432x288 with 1 Axes>"
      ]
     },
     "metadata": {
      "needs_background": "light"
     },
     "output_type": "display_data"
    }
   ],
   "source": [
    "plt.hist(results[0.2][\"reward\"][-500:], bins=5)\n",
    "plt.title(\"Last 500 Games, Epsilon = 0.2\")\n",
    "plt.ylabel(\"Games\")\n",
    "plt.show()"
   ]
  },
  {
   "cell_type": "code",
   "execution_count": 112,
   "id": "aging-squad",
   "metadata": {},
   "outputs": [
    {
     "data": {
      "image/png": "[encoded data removed]",
      "text/plain": [
       "<Figure size 432x288 with 1 Axes>"
      ]
     },
     "metadata": {
      "needs_background": "light"
     },
     "output_type": "display_data"
    }
   ],
   "source": [
    "plt.hist(results[0.1][\"timesteps\"], bins=9)\n",
    "plt.title(\"Turns in the game, Epsilon = 0.1\")\n",
    "plt.ylabel(\"Frequency\")\n",
    "plt.show()"
   ]
  },
  {
   "cell_type": "code",
   "execution_count": 113,
   "id": "boolean-personal",
   "metadata": {},
   "outputs": [
    {
     "data": {
      "image/png": "[encoded data removed]",
      "text/plain": [
       "<Figure size 432x288 with 1 Axes>"
      ]
     },
     "metadata": {
      "needs_background": "light"
     },
     "output_type": "display_data"
    }
   ],
   "source": [
    "plt.hist(results[0.2][\"timesteps\"], bins=9)\n",
    "plt.title(\"Turns in the game, Epsilon = 0.2\")\n",
    "plt.ylabel(\"Frequency\")\n",
    "plt.show()"
   ]
  },
  {
   "cell_type": "code",
   "execution_count": null,
   "id": "responsible-sport",
   "metadata": {},
   "outputs": [],
   "source": []
  }
 ],
 "metadata": {
  "kernelspec": {
   "display_name": "Python 3",
   "language": "python",
   "name": "python3"
  },
  "language_info": {
   "codemirror_mode": {
    "name": "ipython",
    "version": 3
   },
   "file_extension": ".py",
   "mimetype": "text/x-python",
   "name": "python",
   "nbconvert_exporter": "python",
   "pygments_lexer": "ipython3",
   "version": "3.8.5"
  }
 },
 "nbformat": 4,
 "nbformat_minor": 5
}
